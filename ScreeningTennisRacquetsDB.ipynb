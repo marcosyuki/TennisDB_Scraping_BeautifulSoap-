{
 "cells": [
  {
   "cell_type": "code",
   "execution_count": 1,
   "id": "f45a68fb-3175-4f64-b8b1-bb44c088e177",
   "metadata": {
    "tags": []
   },
   "outputs": [],
   "source": [
    "import requests \n",
    "from bs4 import BeautifulSoup\n",
    "from pprint import pprint\n",
    "import pandas as pd"
   ]
  },
  {
   "cell_type": "code",
   "execution_count": 1,
   "id": "5b27dfbc-3076-4ce5-8495-c731ccec3ba5",
   "metadata": {
    "tags": []
   },
   "outputs": [
    {
     "name": "stdout",
     "output_type": "stream",
     "text": [
      "    Manufacturer                                  Racquet  \\\n",
      "0        Babolat               Babolat Boost Drive (2021)   \n",
      "1        Babolat                Babolat Boost Aero Yellow   \n",
      "2        Babolat                 Babolat Drive 115 (2018)   \n",
      "3        Babolat                          Babolat Drive G   \n",
      "4        Babolat  Babolat Pure Strike Tour 3rd Gen - 2019   \n",
      "..           ...                                      ...   \n",
      "270    ProKennex               ProKennex Ki Q+Tour - 2021   \n",
      "271    ProKennex            ProKennex Ki 15 (260g) - 2022   \n",
      "272    ProKennex              ProKennex Ki 5 (295) - 2022   \n",
      "273    ProKennex            ProKennex Ki 10 (305g) - 2022   \n",
      "274    ProKennex             ProKennex Ki 15 (300) (2022)   \n",
      "\n",
      "                     Head Size  Balance Swing Weight Power Level Stiffness  \\\n",
      "0    105 sq. in. / 677 sq. cm.  3pts HH          312      Medium        65   \n",
      "1    102 sq. in. / 658 sq. cm.  2pts HH          306  Low-Medium        67   \n",
      "2    115 sq. in. / 742 sq. cm.  5pts HH          314      Medium        66   \n",
      "3    102 sq. in. / 658 sq. cm.  4pts HL          298  Low-Medium        67   \n",
      "4     98 sq. in. / 632 sq. cm.  6pts HL          333  Low-Medium        65   \n",
      "..                         ...      ...          ...         ...       ...   \n",
      "270   98 sq. in. / 632 sq. cm.  6pts HL          328         Low        61   \n",
      "271  105 sq. in. / 677 sq. cm.  0pts EB          320      Medium        70   \n",
      "272  100 sq. in. / 645 sq. cm.  3pts HL          320  Low-Medium        64   \n",
      "273  100 sq. in. / 645 sq. cm.  4pts HL          331  Low-Medium        68   \n",
      "274  105 sq. in. / 677 sq. cm.  6pts HL          327      Medium        68   \n",
      "\n",
      "          String Pattern  \n",
      "0    16 Mains/19 Crosses  \n",
      "1    16 Mains/19 Crosses  \n",
      "2    16 Mains/20 Crosses  \n",
      "3    16 Mains/19 Crosses  \n",
      "4    16 Mains/19 Crosses  \n",
      "..                   ...  \n",
      "270  16 Mains/19 Crosses  \n",
      "271  16 Mains/19 Crosses  \n",
      "272  16 Mains/20 Crosses  \n",
      "273  16 Mains/19 Crosses  \n",
      "274  16 Mains/19 Crosses  \n",
      "\n",
      "[275 rows x 8 columns]\n"
     ]
    }
   ],
   "source": [
    "import requests\n",
    "from bs4 import BeautifulSoup\n",
    "import pandas as pd\n",
    "\n",
    "# Base URL\n",
    "base_url = \"http://www.racquetfinder.com/?name=&manufacturer={}&hsMin=&hsMax=&lMin=&lMax=&wMin=&wMax=&swMin=&swMax=&fMin=&fMax=&bpMin=&bpMax=&bwMin=&bwMax=&mains=&crosses=&currentcheckbox=ASICS&current=Y\"\n",
    "\n",
    "# List of racquet manufacturers\n",
    "manufacturer_list = ['Babolat', 'Yonex', 'Wilson', 'Head', 'Dunlop', 'Prince', 'Tecnifibre', 'Volkl', 'ProKennex']\n",
    "\n",
    "# Creating URLs\n",
    "urls = [base_url.format(manufacturer) for manufacturer in manufacturer_list]\n",
    "\n",
    "# List to store individual DataFrames\n",
    "dfs = []\n",
    "\n",
    "# Iterating over each URL\n",
    "for url in urls:\n",
    "    # Making HTTP request\n",
    "    response = requests.get(url)\n",
    "    soup = BeautifulSoup(response.text, 'html.parser')\n",
    "    \n",
    "    # Extracting desired data\n",
    "    racquet_list = soup.find_all(\"div\", class_=\"product cf\")\n",
    "    \n",
    "    # Iterating over each racquet in the list\n",
    "    for racquet in racquet_list:\n",
    "        name = racquet.find('div', class_='rac_name').get_text(strip=True)\n",
    "        head_size = racquet.find(\"th\", string=\"Head Size: \").find_next('td').get_text(strip=True)\n",
    "        balance = racquet.find('th', string='Balance: ').find_next('td').get_text(strip=True)\n",
    "        weight = racquet.find('th', string='Swing Weight: ').find_next('td').get_text(strip=True)\n",
    "        power = racquet.find('th', string='Power Level: ').find_next('td').get_text(strip=True)\n",
    "        stiffness = racquet.find('th', string='Stiffness: ').find_next('td').get_text(strip=True)\n",
    "        string_pattern = racquet.find('th', string='String Pattern: ').find_next('td').get_text(strip=True)\n",
    "        \n",
    "        # Creating a DataFrame for each set of data\n",
    "        df = pd.DataFrame({\n",
    "            'Racquet': [name],\n",
    "            'Head Size': [head_size],\n",
    "            'Balance': [balance],\n",
    "            'Swing Weight': [weight],\n",
    "            'Power Level': [power],\n",
    "            'Stiffness': [stiffness],\n",
    "            'String Pattern': [string_pattern],\n",
    "        })\n",
    "        \n",
    "        # Adding DataFrame to the list\n",
    "        dfs.append(df)\n",
    "\n",
    "# Concatenating DataFrames into a single DataFrame\n",
    "combined_df = pd.concat(dfs, ignore_index=True)\n",
    "\n",
    "# Extracting Manufacturer from Racquet name and rearranging columns\n",
    "combined_df['Manufacturer'] = combined_df['Racquet'].str.split().str[0]\n",
    "combined_df.insert(0, 'Manufacturer', combined_df.pop('Manufacturer'))\n",
    "\n",
    "# Saving the combined DataFrame to an Excel file\n",
    "combined_df.to_excel('racquet_database.xlsx', index=False)\n",
    "\n",
    "# Displaying the combined DataFrame\n",
    "print(combined_df)\n"
   ]
  },
  {
   "cell_type": "code",
   "execution_count": null,
   "id": "ceef7cd2-8f06-4ee2-b1d2-d8029c829e52",
   "metadata": {},
   "outputs": [],
   "source": []
  }
 ],
 "metadata": {
  "kernelspec": {
   "display_name": "Python 3 (ipykernel)",
   "language": "python",
   "name": "python3"
  },
  "language_info": {
   "codemirror_mode": {
    "name": "ipython",
    "version": 3
   },
   "file_extension": ".py",
   "mimetype": "text/x-python",
   "name": "python",
   "nbconvert_exporter": "python",
   "pygments_lexer": "ipython3",
   "version": "3.11.8"
  }
 },
 "nbformat": 4,
 "nbformat_minor": 5
}
